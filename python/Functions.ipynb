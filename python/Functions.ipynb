{
 "cells": [
  {
   "cell_type": "code",
   "execution_count": 6,
   "metadata": {},
   "outputs": [],
   "source": [
    "mylist = [1,1,2,3]"
   ]
  },
  {
   "cell_type": "code",
   "execution_count": 7,
   "metadata": {},
   "outputs": [],
   "source": [
    "mylist.append(4)"
   ]
  },
  {
   "cell_type": "code",
   "execution_count": 8,
   "metadata": {},
   "outputs": [
    {
     "data": {
      "text/plain": [
       "[1, 1, 2, 3, 4]"
      ]
     },
     "execution_count": 8,
     "metadata": {},
     "output_type": "execute_result"
    }
   ],
   "source": [
    "mylist"
   ]
  },
  {
   "cell_type": "code",
   "execution_count": 9,
   "metadata": {},
   "outputs": [
    {
     "data": {
      "text/plain": [
       "4"
      ]
     },
     "execution_count": 9,
     "metadata": {},
     "output_type": "execute_result"
    }
   ],
   "source": [
    "mylist.pop()"
   ]
  },
  {
   "cell_type": "code",
   "execution_count": 10,
   "metadata": {},
   "outputs": [],
   "source": [
    "mylist.remove(1) #Press Shft+Tab for more details on methods on the Jupyter notebook."
   ]
  },
  {
   "cell_type": "code",
   "execution_count": 11,
   "metadata": {},
   "outputs": [
    {
     "data": {
      "text/plain": [
       "[1, 2, 3]"
      ]
     },
     "execution_count": 11,
     "metadata": {},
     "output_type": "execute_result"
    }
   ],
   "source": [
    "mylist"
   ]
  },
  {
   "cell_type": "markdown",
   "metadata": {},
   "source": [
    "# Functions:-"
   ]
  },
  {
   "cell_type": "code",
   "execution_count": 6,
   "metadata": {},
   "outputs": [
    {
     "name": "stdout",
     "output_type": "stream",
     "text": [
      "Hello Yeet\n",
      "Hello there!\n"
     ]
    }
   ],
   "source": [
    "def say_hello(xyxyxy = 'there!'): #A default value is taken up\n",
    "    print(f'Hello {xyxyxy}')\n",
    "say_hello('Yeet')\n",
    "say_hello()"
   ]
  },
  {
   "cell_type": "code",
   "execution_count": 7,
   "metadata": {},
   "outputs": [],
   "source": [
    "def add_num(num1,num2): #don't need to define the type of variable...dynamic setting.\n",
    "    return num1+num2 #return obviously, returns the value, so you may store it."
   ]
  },
  {
   "cell_type": "code",
   "execution_count": 9,
   "metadata": {},
   "outputs": [],
   "source": [
    "i = add_num(2,3)"
   ]
  },
  {
   "cell_type": "code",
   "execution_count": 10,
   "metadata": {},
   "outputs": [
    {
     "data": {
      "text/plain": [
       "5"
      ]
     },
     "execution_count": 10,
     "metadata": {},
     "output_type": "execute_result"
    }
   ],
   "source": [
    "i"
   ]
  },
  {
   "cell_type": "code",
   "execution_count": 11,
   "metadata": {},
   "outputs": [
    {
     "name": "stdout",
     "output_type": "stream",
     "text": [
      "num1:1\n",
      "num2:123\n"
     ]
    },
    {
     "data": {
      "text/plain": [
       "'1123'"
      ]
     },
     "execution_count": 11,
     "metadata": {},
     "output_type": "execute_result"
    }
   ],
   "source": [
    "'''\n",
    "because of dynamic type setting, it is susceptible to bugs. See this:\n",
    "'''\n",
    "num1 = input('num1:')\n",
    "num2 = input('num2:')\n",
    "def sum_num(num1,num2):\n",
    "    return num1+num2\n",
    "sum_num(num1,num2)\n",
    "#output is the string concatenation of the input strings."
   ]
  },
  {
   "cell_type": "code",
   "execution_count": 12,
   "metadata": {},
   "outputs": [
    {
     "name": "stdout",
     "output_type": "stream",
     "text": [
      "num1:1\n",
      "num2:123\n"
     ]
    },
    {
     "data": {
      "text/plain": [
       "124"
      ]
     },
     "execution_count": 12,
     "metadata": {},
     "output_type": "execute_result"
    }
   ],
   "source": [
    "num1 = int(input('num1:'))\n",
    "num2 = int(input('num2:'))\n",
    "def sum_num(num1,num2):\n",
    "    return num1+num2\n",
    "sum_num(num1,num2)"
   ]
  },
  {
   "cell_type": "code",
   "execution_count": 17,
   "metadata": {},
   "outputs": [
    {
     "name": "stdout",
     "output_type": "stream",
     "text": [
      "What's the number you want to check? 87\n"
     ]
    },
    {
     "data": {
      "text/plain": [
       "False"
      ]
     },
     "execution_count": 17,
     "metadata": {},
     "output_type": "execute_result"
    }
   ],
   "source": [
    "def even_check(num):\n",
    "    '''check if the number is even or not'''\n",
    "#     if num%2:\n",
    "#         return false\n",
    "#     else:\n",
    "#         return true\n",
    "    return num%2 == 0\n",
    "even_check(int(input(\"What's the number you want to check? \")))"
   ]
  },
  {
   "cell_type": "code",
   "execution_count": 25,
   "metadata": {},
   "outputs": [
    {
     "data": {
      "text/plain": [
       "True"
      ]
     },
     "execution_count": 25,
     "metadata": {},
     "output_type": "execute_result"
    }
   ],
   "source": [
    "#Return true if any number is even inside a list\n",
    "mylist = [1,3,5,2]\n",
    "def even_in_list(mylist):\n",
    "    for n in mylist:\n",
    "        if n%2 == 0:\n",
    "            return True\n",
    "        else:\n",
    "            pass\n",
    "#     return False\n",
    "even_in_list(mylist)"
   ]
  },
  {
   "cell_type": "code",
   "execution_count": 26,
   "metadata": {},
   "outputs": [
    {
     "data": {
      "text/plain": [
       "[2, 4]"
      ]
     },
     "execution_count": 26,
     "metadata": {},
     "output_type": "execute_result"
    }
   ],
   "source": [
    "#Return all the even numbers in the list.\n",
    "mylist = [1,1,2,4,5,7]\n",
    "\n",
    "def even_in_list_2(mylist):\n",
    "    evenlist = []\n",
    "    for n in mylist:\n",
    "        if n%2==0:\n",
    "            evenlist.append(n)\n",
    "        else:\n",
    "            pass\n",
    "    return evenlist\n",
    "even_in_list_2(mylist)\n",
    "        "
   ]
  },
  {
   "cell_type": "code",
   "execution_count": 27,
   "metadata": {},
   "outputs": [
    {
     "name": "stdout",
     "output_type": "stream",
     "text": [
      "('A', 10)\n",
      "('B', 20)\n",
      "('C', 30)\n"
     ]
    }
   ],
   "source": [
    "#Tuple unpacking with functions.\n",
    "stock_prices = [('A',10),('B',20),('C',30)]\n",
    "for item in stock_prices:\n",
    "    print(item)"
   ]
  },
  {
   "cell_type": "code",
   "execution_count": 28,
   "metadata": {},
   "outputs": [
    {
     "name": "stdout",
     "output_type": "stream",
     "text": [
      "12.0\n",
      "24.0\n",
      "36.0\n"
     ]
    }
   ],
   "source": [
    "for ticker,prices in stock_prices:\n",
    "    print(prices + (0.2*prices))"
   ]
  },
  {
   "cell_type": "code",
   "execution_count": 32,
   "metadata": {},
   "outputs": [
    {
     "data": {
      "text/plain": [
       "('Charlie', 56)"
      ]
     },
     "execution_count": 32,
     "metadata": {},
     "output_type": "execute_result"
    }
   ],
   "source": [
    "employee_stats = [('Adam',50),('Bernard',48),('Charlie',56)]\n",
    "\n",
    "def best_employee_month(employeeStats):\n",
    "    current_max_hrs = 0\n",
    "    best_employee = ''\n",
    "    \n",
    "    for employee,hours in employeeStats:\n",
    "        if hours>current_max_hrs:\n",
    "            current_max_hrs = hours\n",
    "            best_employee = employee\n",
    "        else:\n",
    "            pass\n",
    "    return (best_employee,current_max_hrs)\n",
    "\n",
    "# name,hours = best_employee_month(employee_stats) #this is a bit misleading as you might not know how many values the n-tuple returns.\n",
    "employee_best_details = best_employee_month(employee_stats)\n",
    "employee_best_details"
   ]
  },
  {
   "cell_type": "code",
   "execution_count": 33,
   "metadata": {},
   "outputs": [
    {
     "name": "stdout",
     "output_type": "stream",
     "text": [
      "The best employee of the month was Charlie with record-breaking 56 hours\n"
     ]
    }
   ],
   "source": [
    "name,hours = employee_best_details\n",
    "print(f'The best employee of the month was {name} with record-breaking {hours} hours')"
   ]
  },
  {
   "cell_type": "markdown",
   "metadata": {},
   "source": [
    "# Monte Cup game"
   ]
  },
  {
   "cell_type": "code",
   "execution_count": 34,
   "metadata": {},
   "outputs": [],
   "source": [
    "example = [1,2,3,4,5,6,7]"
   ]
  },
  {
   "cell_type": "code",
   "execution_count": 35,
   "metadata": {},
   "outputs": [],
   "source": [
    "from random import shuffle"
   ]
  },
  {
   "cell_type": "code",
   "execution_count": 38,
   "metadata": {},
   "outputs": [
    {
     "data": {
      "text/plain": [
       "[1, 6, 5, 4, 2, 3, 7]"
      ]
     },
     "execution_count": 38,
     "metadata": {},
     "output_type": "execute_result"
    }
   ],
   "source": [
    "shuffle(example)\n",
    "example"
   ]
  },
  {
   "cell_type": "code",
   "execution_count": 60,
   "metadata": {},
   "outputs": [],
   "source": [
    "#shuffle doesn't return any list..so we define a slight modified shuffle:\n",
    "def shuffle_list(mylist):\n",
    "    shuffle(mylist)\n",
    "    return mylist"
   ]
  },
  {
   "cell_type": "code",
   "execution_count": 40,
   "metadata": {},
   "outputs": [],
   "source": [
    "result = shuffle_list(example)"
   ]
  },
  {
   "cell_type": "code",
   "execution_count": 41,
   "metadata": {},
   "outputs": [
    {
     "data": {
      "text/plain": [
       "[2, 5, 4, 1, 6, 3, 7]"
      ]
     },
     "execution_count": 41,
     "metadata": {},
     "output_type": "execute_result"
    }
   ],
   "source": [
    "result"
   ]
  },
  {
   "cell_type": "code",
   "execution_count": 42,
   "metadata": {},
   "outputs": [],
   "source": [
    "game_scene = ['','O','']"
   ]
  },
  {
   "cell_type": "code",
   "execution_count": 43,
   "metadata": {},
   "outputs": [
    {
     "data": {
      "text/plain": [
       "['O', '', '']"
      ]
     },
     "execution_count": 43,
     "metadata": {},
     "output_type": "execute_result"
    }
   ],
   "source": [
    "shuffle_list(game_scene)"
   ]
  },
  {
   "cell_type": "code",
   "execution_count": 64,
   "metadata": {},
   "outputs": [],
   "source": [
    "def player_guess():\n",
    "    guess = ''\n",
    "    while guess not in ['0','1','2','3']:\n",
    "        guess = input('Pick a number 0,1,2 or 3:')\n",
    "    return int(guess)"
   ]
  },
  {
   "cell_type": "code",
   "execution_count": null,
   "metadata": {},
   "outputs": [],
   "source": []
  },
  {
   "cell_type": "code",
   "execution_count": 65,
   "metadata": {},
   "outputs": [],
   "source": [
    "def check_guess(game_scene,my_guess):\n",
    "    if game_scene[my_guess] == 'O':\n",
    "        print(\"Correct!\")\n",
    "    else:\n",
    "        print(\"Wrong, \", game_scene, \" but your guess was \", my_guess)"
   ]
  },
  {
   "cell_type": "code",
   "execution_count": 70,
   "metadata": {},
   "outputs": [],
   "source": [
    "def play_the_4_cup_game():\n",
    "    #initial list\n",
    "    mylist = ['','','O','']\n",
    "    #shuffled list\n",
    "    shuffled_list = shuffle_list(mylist)\n",
    "    #User guess\n",
    "    index = player_guess()\n",
    "    #Check if it matches\n",
    "    check_guess(shuffled_list, index)"
   ]
  },
  {
   "cell_type": "code",
   "execution_count": 71,
   "metadata": {},
   "outputs": [
    {
     "name": "stdout",
     "output_type": "stream",
     "text": [
      "Pick a number 0,1,2 or 3:1\n",
      "Wrong,  ['O', '', '', '']  but your guess was  1\n"
     ]
    }
   ],
   "source": [
    "play_the_4_cup_game()"
   ]
  },
  {
   "cell_type": "markdown",
   "metadata": {},
   "source": [
    "## *Args and *kwargs"
   ]
  },
  {
   "cell_type": "code",
   "execution_count": 5,
   "metadata": {},
   "outputs": [
    {
     "name": "stdout",
     "output_type": "stream",
     "text": [
      "101\n"
     ]
    }
   ],
   "source": [
    "#For an arbitrary number of arguements, we use *args parameter, in functions\n",
    "def myfunc(*arsg):\n",
    "    print(sum(arsg)) #by convention, we always use args variable in such functions, so it is more understandable.\n",
    "    \n",
    "myfunc(8,58,7,9,2,4,5,7,1)"
   ]
  },
  {
   "cell_type": "code",
   "execution_count": 7,
   "metadata": {},
   "outputs": [
    {
     "name": "stdout",
     "output_type": "stream",
     "text": [
      "1\n",
      "2\n",
      "4\n",
      "1\n"
     ]
    }
   ],
   "source": [
    "def tuple_returningFn (*args):\n",
    "    for n in args:\n",
    "        print(n)\n",
    "\n",
    "tuple_returningFn(1,2,4,1)"
   ]
  },
  {
   "cell_type": "code",
   "execution_count": 8,
   "metadata": {},
   "outputs": [
    {
     "name": "stdout",
     "output_type": "stream",
     "text": [
      "the fruit you mentioned is plums\n"
     ]
    },
    {
     "data": {
      "text/plain": [
       "{'fruit': 'plums', 'dino': 'sereptosaurus'}"
      ]
     },
     "execution_count": 8,
     "metadata": {},
     "output_type": "execute_result"
    }
   ],
   "source": [
    "def myfunc(**kwargs):\n",
    "    if 'fruit' in kwargs:\n",
    "        print(\"the fruit you mentioned is {}\".format(kwargs['fruit']))\n",
    "    else:\n",
    "        print('No fruit for you!')\n",
    "    return kwargs\n",
    "        \n",
    "myfunc(fruit = 'plums', dino = 'sereptosaurus')"
   ]
  },
  {
   "cell_type": "code",
   "execution_count": 2,
   "metadata": {},
   "outputs": [],
   "source": [
    "# def mixed_arguments(*args, **kwargs):\n",
    "    "
   ]
  },
  {
   "cell_type": "code",
   "execution_count": 3,
   "metadata": {},
   "outputs": [],
   "source": [
    "def myfunc(*args):\n",
    "    even = []\n",
    "    for n in args:\n",
    "        if not n%2:\n",
    "            even.append(n)\n",
    "    return even"
   ]
  }
 ],
 "metadata": {
  "kernelspec": {
   "display_name": "Python 3",
   "language": "python",
   "name": "python3"
  },
  "language_info": {
   "codemirror_mode": {
    "name": "ipython",
    "version": 3
   },
   "file_extension": ".py",
   "mimetype": "text/x-python",
   "name": "python",
   "nbconvert_exporter": "python",
   "pygments_lexer": "ipython3",
   "version": "3.8.3"
  }
 },
 "nbformat": 4,
 "nbformat_minor": 4
}
