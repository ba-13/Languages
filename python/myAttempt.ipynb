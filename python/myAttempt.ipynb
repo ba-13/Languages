{
 "cells": [
  {
   "cell_type": "markdown",
   "metadata": {},
   "source": [
    "Some more CSV related libraries to consider are:\r\n",
    "- pandas : Full Stacked\r\n",
    "- openpyxl : Especially for Excels\r\n",
    "- Google Sheets Python API"
   ]
  },
  {
   "cell_type": "code",
   "execution_count": 1,
   "metadata": {},
   "outputs": [],
   "source": [
    "import csv"
   ]
  },
  {
   "cell_type": "code",
   "execution_count": 2,
   "metadata": {},
   "outputs": [],
   "source": [
    "data = open('example.csv', encoding='utf-8')"
   ]
  },
  {
   "cell_type": "code",
   "execution_count": 3,
   "metadata": {},
   "outputs": [],
   "source": [
    "csv_data = csv.reader(data)"
   ]
  },
  {
   "cell_type": "code",
   "execution_count": 4,
   "metadata": {},
   "outputs": [],
   "source": [
    "data_lines = list(csv_data)"
   ]
  },
  {
   "cell_type": "code",
   "execution_count": 5,
   "metadata": {},
   "outputs": [
    {
     "data": {
      "text/plain": [
       "['id', 'first_name', 'last_name', 'email', 'gender', 'ip_address', 'city']"
      ]
     },
     "execution_count": 5,
     "metadata": {},
     "output_type": "execute_result"
    }
   ],
   "source": [
    "data_lines[0]"
   ]
  },
  {
   "cell_type": "code",
   "execution_count": 6,
   "metadata": {},
   "outputs": [
    {
     "data": {
      "text/plain": [
       "1001"
      ]
     },
     "execution_count": 6,
     "metadata": {},
     "output_type": "execute_result"
    }
   ],
   "source": [
    "len(data_lines)"
   ]
  },
  {
   "cell_type": "code",
   "execution_count": 7,
   "metadata": {},
   "outputs": [
    {
     "name": "stdout",
     "output_type": "stream",
     "text": [
      "['1', 'Joseph', 'Zaniolini', 'jzaniolini0@simplemachines.org', 'Male', '163.168.68.132', 'Pedro Leopoldo']\n",
      "['2', 'Freida', 'Drillingcourt', 'fdrillingcourt1@umich.edu', 'Female', '97.212.102.79', 'Buri']\n",
      "['3', 'Nanni', 'Herity', 'nherity2@statcounter.com', 'Female', '145.151.178.98', 'Claver']\n",
      "['4', 'Orazio', 'Frayling', 'ofrayling3@economist.com', 'Male', '25.199.143.143', 'Kungur']\n"
     ]
    }
   ],
   "source": [
    "for line in data_lines[1:5]:\r\n",
    "    print(line)"
   ]
  },
  {
   "cell_type": "code",
   "execution_count": 8,
   "metadata": {},
   "outputs": [
    {
     "data": {
      "text/plain": [
       "'hgasquoine9@google.ru'"
      ]
     },
     "execution_count": 8,
     "metadata": {},
     "output_type": "execute_result"
    }
   ],
   "source": [
    "data_lines[10][3]"
   ]
  },
  {
   "cell_type": "code",
   "execution_count": 9,
   "metadata": {},
   "outputs": [
    {
     "data": {
      "text/plain": [
       "['jzaniolini0@simplemachines.org',\n",
       " 'fdrillingcourt1@umich.edu',\n",
       " 'nherity2@statcounter.com',\n",
       " 'ofrayling3@economist.com',\n",
       " 'jmurrison4@cbslocal.com',\n",
       " 'lgamet5@list-manage.com',\n",
       " 'dhowatt6@amazon.com',\n",
       " 'kherion7@amazon.com',\n",
       " 'chedworth8@china.com.cn',\n",
       " 'hgasquoine9@google.ru',\n",
       " 'ftarra@shareasale.com',\n",
       " 'abathb@umn.edu',\n",
       " 'lchastangc@goo.gl',\n",
       " 'cceried@yale.edu',\n",
       " 'ajeppe@umich.edu']"
      ]
     },
     "execution_count": 9,
     "metadata": {},
     "output_type": "execute_result"
    }
   ],
   "source": [
    "all_emails = []\r\n",
    "for line in data_lines[1:16]:\r\n",
    "    all_emails.append(line[3])\r\n",
    "all_emails"
   ]
  },
  {
   "cell_type": "code",
   "execution_count": 10,
   "metadata": {},
   "outputs": [
    {
     "data": {
      "text/plain": [
       "['10',\n",
       " 'Hyatt',\n",
       " 'Gasquoine',\n",
       " 'hgasquoine9@google.ru',\n",
       " 'Male',\n",
       " '221.155.106.39',\n",
       " 'Złoty Stok']"
      ]
     },
     "execution_count": 10,
     "metadata": {},
     "output_type": "execute_result"
    }
   ],
   "source": [
    "data_lines[10]"
   ]
  },
  {
   "cell_type": "code",
   "execution_count": 11,
   "metadata": {},
   "outputs": [
    {
     "data": {
      "text/plain": [
       "['Joseph Zaniolini',\n",
       " 'Freida Drillingcourt',\n",
       " 'Nanni Herity',\n",
       " 'Orazio Frayling',\n",
       " 'Julianne Murrison',\n",
       " 'Lucy Gamet',\n",
       " 'Dyana Howatt',\n",
       " 'Kassey Herion',\n",
       " 'Chrissy Hedworth',\n",
       " 'Hyatt Gasquoine',\n",
       " 'Felicdad Tarr',\n",
       " 'Andrew Bath',\n",
       " 'Lucais Chastang',\n",
       " 'Car Cerie',\n",
       " 'Alvera Jepp']"
      ]
     },
     "execution_count": 11,
     "metadata": {},
     "output_type": "execute_result"
    }
   ],
   "source": [
    "full_names = []\r\n",
    "for line in data_lines[1:16]:\r\n",
    "    full_names.append(line[1]+' '+line[2])\r\n",
    "full_names"
   ]
  },
  {
   "cell_type": "code",
   "execution_count": 12,
   "metadata": {},
   "outputs": [],
   "source": [
    "data.close()"
   ]
  },
  {
   "cell_type": "code",
   "execution_count": 13,
   "metadata": {},
   "outputs": [],
   "source": [
    "file_to_output = open('to_save_file.csv', mode='w', newline='')"
   ]
  },
  {
   "cell_type": "code",
   "execution_count": 14,
   "metadata": {},
   "outputs": [],
   "source": [
    "csv_writer = csv.writer(file_to_output, delimiter=',')"
   ]
  },
  {
   "cell_type": "code",
   "execution_count": 15,
   "metadata": {},
   "outputs": [
    {
     "data": {
      "text/plain": [
       "7"
      ]
     },
     "execution_count": 15,
     "metadata": {},
     "output_type": "execute_result"
    }
   ],
   "source": [
    "csv_writer.writerow(['a','b','c'])"
   ]
  },
  {
   "cell_type": "code",
   "execution_count": 16,
   "metadata": {},
   "outputs": [],
   "source": [
    "file_to_output.close()"
   ]
  },
  {
   "cell_type": "code",
   "execution_count": 17,
   "metadata": {},
   "outputs": [],
   "source": [
    "f = open('to_save_file.csv', mode='a', newline='')"
   ]
  },
  {
   "cell_type": "code",
   "execution_count": 18,
   "metadata": {},
   "outputs": [],
   "source": [
    "csvWriter = csv.writer(f)"
   ]
  },
  {
   "cell_type": "code",
   "execution_count": 19,
   "metadata": {},
   "outputs": [
    {
     "data": {
      "text/plain": [
       "7"
      ]
     },
     "execution_count": 19,
     "metadata": {},
     "output_type": "execute_result"
    }
   ],
   "source": [
    "csvWriter.writerow(['1','2','3']) # Output 7 is the number of characters written"
   ]
  },
  {
   "cell_type": "code",
   "execution_count": 20,
   "metadata": {},
   "outputs": [],
   "source": [
    "csvWriter.writerows([['x','y','z'],['t','u','s'],['y','e','e'],['t','b','a']])"
   ]
  },
  {
   "cell_type": "code",
   "execution_count": 21,
   "metadata": {},
   "outputs": [],
   "source": [
    "f.close()"
   ]
  },
  {
   "cell_type": "markdown",
   "metadata": {},
   "source": [
    "Doing a bit of fun right now xD"
   ]
  },
  {
   "cell_type": "code",
   "execution_count": 22,
   "metadata": {},
   "outputs": [],
   "source": [
    "url = \"https://www.messier.seds.org/data3.html\""
   ]
  },
  {
   "cell_type": "code",
   "execution_count": 23,
   "metadata": {},
   "outputs": [],
   "source": [
    "import requests, bs4"
   ]
  },
  {
   "cell_type": "code",
   "execution_count": 24,
   "metadata": {},
   "outputs": [],
   "source": [
    "data = requests.get(url)"
   ]
  },
  {
   "cell_type": "code",
   "execution_count": 25,
   "metadata": {},
   "outputs": [],
   "source": [
    "result = bs4.BeautifulSoup(data.text, \"lxml\")"
   ]
  },
  {
   "cell_type": "code",
   "execution_count": 26,
   "metadata": {},
   "outputs": [
    {
     "data": {
      "text/plain": [
       "<html><head>\n",
       "<title>Messier Index</title>\n",
       "<link href=\"http://messier.seds.org/Contact/contact.html\" rev=\"owner\" title=\"Contact Maintainer\"/>\n",
       "<meta content=\"Messier, Astronomy, Deep Sky, Messier Objects, Messier Catalog, Galaxies, Nebulae, Star Clusters, SEDS\" name=\"keywords\"/>\n",
       "<meta content=\"Guy McArthur, Hartmut Frommert, Christine Kronberg\" name=\"author\"/>\n",
       "<meta content=\"global\" name=\"distribution\"/>\n",
       "</head>\n",
       "<body>\n",
       "<center>\n",
       "<h2>Messier Object Index</h2>\n",
       "</center>\n",
       "<b>You can also view the Messier objects by constellation: \n",
       "<a href=\"CONindex2.html\">long form</a>  or \n",
       "<a href=\"CONindex4.html\">short form</a>\n",
       " or by <a href=\"objects.html\">object type</a>.</b>\n",
       "<p>\n",
       "</p><hr/>\n",
       "<b><a href=\"m/m001.html\"> M1  </a></b> <b>The Crab Nebula  </b>  supernova remnant  <i><a href=\"map/Tau.html\">in Taurus</a></i><p>\n",
       "<b><a href=\"m/m002.html\"> M2  </a></b>  globular cluster  <i><a href=\"map/Aqr.html\">in Aquarius</a></i></p><p>\n",
       "<b><a href=\"m/m003.html\"> M3  </a></b>  globular cluster  <i><a href=\"map/CVn.html\">in Canes Venatici</a></i></p><p>\n",
       "<b><a href=\"m/m004.html\"> M4  </a></b>  globular cluster  <i><a href=\"map/Sco.html\">in Scorpius</a></i></p><p>\n",
       "<b><a href=\"m/m005.html\"> M5  </a></b>  globular cluster  <i><a href=\"map/SerCap.html\">in Serpens Caput</a></i></p><p>\n",
       "<b><a href=\"m/m006.html\"> M6  </a></b> <b>The Butterfly Cluster  </b>  open cluster  <i><a href=\"map/Sco.html\">in Scorpius</a></i></p><p>\n",
       "<b><a href=\"m/m007.html\"> M7  </a></b> <b>Ptolemy's Cluster  </b>  open cluster  <i><a href=\"map/Sco.html\">in Scorpius</a></i></p><p>\n",
       "<b><a href=\"m/m008.html\"> M8  </a></b> <b>The Lagoon Nebula  </b>    starforming nebula  <i><a href=\"map/Sgr.html\">in Sagittarius</a></i></p><p>\n",
       "<b><a href=\"m/m009.html\"> M9  </a></b>  globular cluster  <i><a href=\"map/Oph.html\">in Ophiuchus</a></i></p><p>\n",
       "<b><a href=\"m/m010.html\">  M10  </a></b>  globular cluster  <i><a href=\"map/Oph.html\">in Ophiuchus</a></i></p><p>\n",
       "<b><a href=\"m/m011.html\">  M11  </a></b> <b>The Wild Duck Cluster  </b>  open cluster  <i><a href=\"map/Sct.html\">in Scutum</a></i></p><p>\n",
       "<b><a href=\"m/m012.html\">  M12  </a></b>  globular cluster  <i><a href=\"map/Oph.html\">in Ophiuchus</a></i></p><p>\n",
       "<b><a href=\"m/m013.html\">  M13  </a></b> <b>Great Hercules Globular Cluster  </b>  globular cluster  <i><a href=\"map/Her.html\">in Hercules</a></i></p><p>\n",
       "<b><a href=\"m/m014.html\">  M14  </a></b>  globular cluster  <i><a href=\"map/Oph.html\">in Ophiuchus</a></i></p><p>\n",
       "<b><a href=\"m/m015.html\">  M15  </a></b>  globular cluster  <i><a href=\"map/Peg.html\">in Pegasus</a></i></p><p>\n",
       "<b><a href=\"m/m016.html\">  M16  </a></b> <b>Eagle</b> or <b>Star Queen Nebula  </b>  starforming nebula  <i><a href=\"map/SerCau.html\">in Serpens Cauda</a></i></p><p>\n",
       "<b><a href=\"m/m017.html\">  M17  </a></b> <b>The Omega</b> or <b>Swan</b> or <b>Horseshoe</b> or <b>Lobster Nebula  </b>    starforming nebula  <i><a href=\"map/Sgr.html\">in Sagittarius</a></i></p><p>\n",
       "<b><a href=\"m/m018.html\">  M18  </a></b>  open cluster  <i><a href=\"map/Sgr.html\">in Sagittarius</a></i></p><p>\n",
       "<b><a href=\"m/m019.html\">  M19  </a></b>  globular cluster  <i><a href=\"map/Oph.html\">in Ophiuchus</a></i></p><p>\n",
       "<b><a href=\"m/m020.html\">  M20  </a></b> <b>The Trifid Nebula  </b>    starforming nebula  <i><a href=\"map/Sgr.html\">in Sagittarius</a></i></p><p>\n",
       "<b><a href=\"m/m021.html\">  M21  </a></b>  open cluster  <i><a href=\"map/Sgr.html\">in Sagittarius</a></i></p><p>\n",
       "<b><a href=\"m/m022.html\">  M22  </a></b>  globular cluster  <i><a href=\"map/Sgr.html\">in Sagittarius</a></i></p><p>\n",
       "<b><a href=\"m/m023.html\">  M23  </a></b>  open cluster  <i><a href=\"map/Sgr.html\">in Sagittarius</a></i></p><p>\n",
       "<b><a href=\"m/m024.html\">  M24  </a></b> <b>Milky Way Patch </b> star cloud with open cluster NGC 6603 <i><a href=\"map/Sgr.html\">in Sagittarius</a></i></p><p>\n",
       "<b><a href=\"m/m025.html\">  M25  </a></b>  open cluster  <i><a href=\"map/Sgr.html\">in Sagittarius</a></i></p><p>\n",
       "<b><a href=\"m/m026.html\">  M26  </a></b>  open cluster  <i><a href=\"map/Sct.html\">in Scutum</a></i></p><p>\n",
       "<b><a href=\"m/m027.html\">  M27  </a></b> <b>The Dumbbell Nebula  </b>    planetary nebula  <i><a href=\"map/Vul.html\">in Vulpecula</a></i></p><p>\n",
       "<b><a href=\"m/m028.html\">  M28  </a></b>  globular cluster  <i><a href=\"map/Sgr.html\">in Sagittarius</a></i></p><p>\n",
       "<b><a href=\"m/m029.html\">  M29  </a></b>  open cluster  <i><a href=\"map/Cyg.html\">in Cygnus</a></i></p><p>\n",
       "<b><a href=\"m/m030.html\">  M30  </a></b>  globular cluster  <i><a href=\"map/Cap.html\">in Capricornus</a></i></p><p>\n",
       "<b><a href=\"m/m031.html\">  M31  </a></b> <b>The Andromeda Galaxy  </b>    spiral galaxy  <i><a href=\"map/And.html\">in Andromeda</a></i></p><p>\n",
       "<b><a href=\"m/m032.html\">  M32  </a></b> <b>Satellite galaxy of M31  </b>    elliptical galaxy  <i><a href=\"map/And.html\">in Andromeda</a></i></p><p>\n",
       "<b><a href=\"m/m033.html\">  M33  </a></b> <b>The Triangulum Galaxy </b> (also Pinwheel)  spiral galaxy  <i><a href=\"map/Tri.html\">in Triangulum</a></i></p><p>\n",
       "<b><a href=\"m/m034.html\">  M34  </a></b>  open cluster  <i><a href=\"map/Per.html\">in Perseus</a></i></p><p>\n",
       "<b><a href=\"m/m035.html\">  M35  </a></b>  open cluster  <i><a href=\"map/Gem.html\">in Gemini</a></i></p><p>\n",
       "<b><a href=\"m/m036.html\">  M36  </a></b>  open cluster  <i><a href=\"map/Aur.html\">in Auriga</a></i></p><p>\n",
       "<b><a href=\"m/m037.html\">  M37  </a></b>  open cluster  <i><a href=\"map/Aur.html\">in Auriga</a></i></p><p>\n",
       "<b><a href=\"m/m038.html\">  M38  </a></b>  open cluster  <i><a href=\"map/Aur.html\">in Auriga</a></i></p><p>\n",
       "<b><a href=\"m/m039.html\">  M39  </a></b>  open cluster  <i><a href=\"map/Cyg.html\">in Cygnus</a></i></p><p>\n",
       "<b><a href=\"m/m040.html\">  M40  </a></b> <b>Double Star WNC4  </b> <i><a href=\"map/UMa.html\">in Ursa Major</a></i></p><p>\n",
       "<b><a href=\"m/m041.html\">  M41  </a></b>  open cluster  <i><a href=\"map/CMa.html\">in Canis Major</a></i></p><p>\n",
       "<b><a href=\"m/m042.html\">  M42  </a></b> <b>The Great Orion Nebula  </b>    starforming nebula  <i><a href=\"map/Ori.html\">in Orion</a></i></p><p>\n",
       "<b><a href=\"m/m043.html\">  M43  </a></b> <b>part of the Orion Nebula (de Mairan's Nebula) </b>    starforming nebula  <i><a href=\"map/Ori.html\">in Orion</a></i></p><p>\n",
       "<b><a href=\"m/m044.html\">  M44  </a></b> <b>Praesepe, the Beehive Cluster  </b>    open cluster  <i><a href=\"map/Cnc.html\">in Cancer</a></i></p><p>\n",
       "<b><a href=\"m/m045.html\">  M45  </a></b> <b>Subaru, the Pleiades--the Seven Sisters  </b>    open cluster  <i><a href=\"map/Tau.html\">in Taurus</a></i></p><p>\n",
       "<b><a href=\"m/m046.html\">  M46  </a></b>  open cluster  <i><a href=\"map/Pup.html\">in Puppis</a></i></p><p>\n",
       "<b><a href=\"m/m047.html\">  M47  </a></b>  open cluster  <i><a href=\"map/Pup.html\">in Puppis</a></i></p><p>\n",
       "<b><a href=\"m/m048.html\">  M48  </a></b>  open cluster  <i><a href=\"map/Hya.html\">in Hydra</a></i></p><p>\n",
       "<b><a href=\"m/m049.html\">  M49  </a></b>  elliptical galaxy  <i><a href=\"map/Vir.html\">in Virgo</a></i></p><p>\n",
       "<b><a href=\"m/m050.html\">  M50  </a></b>  open cluster  <i><a href=\"map/Mon.html\">in Monoceros</a></i></p><p>\n",
       "<b><a href=\"m/m051.html\">  M51  </a></b> <b>The Whirlpool Galaxy</b>, spiral galaxy  <i><a href=\"map/CVn.html\">in Canes Venatici</a></i></p><p>\n",
       "<b><a href=\"m/m051b.html\">  M51B  </a></b>  (NGC 5195) irregular galaxy, companion of M51  <i><a href=\"map/CVn.html\">in Canes Venatici</a></i></p><p>\n",
       "<b><a href=\"m/m052.html\">  M52  </a></b>  open cluster  <i><a href=\"map/Cas.html\">in Cassiopeia</a></i></p><p>\n",
       "<b><a href=\"m/m053.html\">  M53  </a></b>  globular cluster  <i><a href=\"map/Com.html\">in Coma Berenices</a></i></p><p>\n",
       "<b><a href=\"m/m054.html\">  M54  </a></b>  globular cluster  <i><a href=\"map/Sgr.html\">in Sagittarius</a></i></p><p>\n",
       "<b><a href=\"m/m055.html\">  M55  </a></b>  globular cluster  <i><a href=\"map/Sgr.html\">in Sagittarius</a></i></p><p>\n",
       "<b><a href=\"m/m056.html\">  M56  </a></b>  globular cluster  <i><a href=\"map/Lyr.html\">in Lyra</a></i></p><p>\n",
       "<b><a href=\"m/m057.html\">  M57  </a></b> <b>The Ring Nebula  </b>    planetary nebula  <i><a href=\"map/Lyr.html\">in Lyra</a></i></p><p>\n",
       "<b><a href=\"m/m058.html\">  M58  </a></b>  spiral galaxy  <i><a href=\"map/Vir.html\">in Virgo</a></i></p><p>\n",
       "<b><a href=\"m/m059.html\">  M59  </a></b>  elliptical galaxy  <i><a href=\"map/Vir.html\">in Virgo</a></i></p><p>\n",
       "<b><a href=\"m/m060.html\">  M60  </a></b>  elliptical galaxy  <i><a href=\"map/Vir.html\">in Virgo</a></i></p><p>\n",
       "<b><a href=\"m/m061.html\">  M61  </a></b>  spiral galaxy  <i><a href=\"map/Vir.html\">in Virgo</a></i></p><p>\n",
       "<b><a href=\"m/m062.html\">  M62  </a></b>  globular cluster  <i><a href=\"map/Oph.html\">in Ophiuchus</a></i></p><p>\n",
       "<b><a href=\"m/m063.html\">  M63  </a></b> <b>Sunflower galaxy  </b>  spiral galaxy  <i><a href=\"map/CVn.html\">in Canes Venatici</a></i></p><p>\n",
       "<b><a href=\"m/m064.html\">  M64  </a></b> <b>Blackeye galaxy  </b>  spiral galaxy  <i><a href=\"map/Com.html\">in Coma Berenices</a></i></p><p>\n",
       "<b><a href=\"m/m065.html\">  M65  </a></b>  spiral galaxy  <i><a href=\"map/Leo.html\">in Leo</a></i></p><p>\n",
       "<b><a href=\"m/m066.html\">  M66  </a></b>  spiral galaxy  <i><a href=\"map/Leo.html\">in Leo</a></i></p><p>\n",
       "<b><a href=\"m/m067.html\">  M67  </a></b>  open cluster  <i><a href=\"map/Cnc.html\">in Cancer</a></i></p><p>\n",
       "<b><a href=\"m/m068.html\">  M68  </a></b>  globular cluster  <i><a href=\"map/Hya.html\">in Hydra</a></i></p><p>\n",
       "<b><a href=\"m/m069.html\">  M69  </a></b>  globular cluster  <i><a href=\"map/Sgr.html\">in Sagittarius</a></i></p><p>\n",
       "<b><a href=\"m/m070.html\">  M70  </a></b>  globular cluster  <i><a href=\"map/Sgr.html\">in Sagittarius</a></i></p><p>\n",
       "<b><a href=\"m/m071.html\">  M71  </a></b>  globular cluster  <i><a href=\"map/Sge.html\">in Sagitta</a></i></p><p>\n",
       "<b><a href=\"m/m072.html\">  M72  </a></b>  globular cluster  <i><a href=\"map/Aqr.html\">in Aquarius</a></i></p><p>\n",
       "<b><a href=\"m/m073.html\">  M73  </a></b>  open cluster  <i><a href=\"map/Aqr.html\">in Aquarius</a></i></p><p>\n",
       "<b><a href=\"m/m074.html\">  M74  </a></b>  spiral galaxy  <i><a href=\"map/Psc.html\">in Pisces</a></i></p><p>\n",
       "<b><a href=\"m/m075.html\">  M75  </a></b>  globular cluster  <i><a href=\"map/Sgr.html\">in Sagittarius</a></i></p><p>\n",
       "<b><a href=\"m/m076.html\">  M76  </a></b> <b>The Little Dumbell, Cork, or Butterfly  </b>  planetary nebula  <i><a href=\"map/Per.html\">in Perseus</a></i></p><p>\n",
       "<b><a href=\"m/m077.html\">  M77  </a></b>  spiral galaxy  <i><a href=\"map/Cet.html\">in Cetus</a></i></p><p>\n",
       "<b><a href=\"m/m078.html\">  M78  </a></b>  starforming reflection nebula  <i><a href=\"map/Ori.html\">in Orion</a></i></p><p>\n",
       "<b><a href=\"m/m079.html\">  M79  </a></b>  globular cluster  <i><a href=\"map/Lep.html\">in Lepus</a></i></p><p>\n",
       "<b><a href=\"m/m080.html\">  M80  </a></b>  globular cluster  <i><a href=\"map/Sco.html\">in Scorpius</a></i></p><p>\n",
       "<b><a href=\"m/m081.html\">  M81  </a></b> <b>Bode's Galaxy (nebula)  </b>  spiral galaxy  <i><a href=\"map/UMa.html\">in Ursa Major</a></i></p><p>\n",
       "<b><a href=\"m/m082.html\">  M82  </a></b> <b>The Cigar Galaxy</b>  irregular galaxy  <i><a href=\"map/UMa.html\">in Ursa Major</a></i></p><p>\n",
       "<b><a href=\"m/m083.html\">  M83  </a></b> <b>The Southern Pinwheel Galaxy</b>  spiral galaxy  <i><a href=\"map/Hya.html\">in Hydra</a></i></p><p>\n",
       "<b><a href=\"m/m084.html\">  M84  </a></b>  lenticular galaxy  <i><a href=\"map/Vir.html\">in Virgo</a></i></p><p>\n",
       "<b><a href=\"m/m085.html\">  M85  </a></b>  lenticular galaxy  <i><a href=\"map/Com.html\">in Coma Berenices</a></i></p><p>\n",
       "<b><a href=\"m/m086.html\">  M86  </a></b>  lenticular galaxy  <i><a href=\"map/Vir.html\">in Virgo</a></i></p><p>\n",
       "<b><a href=\"m/m087.html\">  M87  </a></b> <b>Virgo A  </b>  elliptical galaxy  <i><a href=\"map/Vir.html\">in Virgo</a></i></p><p>\n",
       "<b><a href=\"m/m088.html\">  M88  </a></b>  spiral galaxy  <i><a href=\"map/Com.html\">in Coma Berenices</a></i></p><p>\n",
       "<b><a href=\"m/m089.html\">  M89  </a></b>  elliptical galaxy  <i><a href=\"map/Vir.html\">in Virgo</a></i></p><p>\n",
       "<b><a href=\"m/m090.html\">  M90  </a></b>  spiral galaxy  <i><a href=\"map/Vir.html\">in Virgo</a></i></p><p>\n",
       "<b><a href=\"m/m091.html\">  M91  </a></b>  spiral galaxy  <i><a href=\"map/Com.html\">in Coma Berenices</a></i></p><p>\n",
       "<b><a href=\"m/m092.html\">  M92  </a></b>  globular cluster  <i><a href=\"map/Her.html\">in Hercules</a></i></p><p>\n",
       "<b><a href=\"m/m093.html\">  M93  </a></b>  open cluster  <i><a href=\"map/Pup.html\">in Puppis</a></i></p><p>\n",
       "<b><a href=\"m/m094.html\">  M94  </a></b>  spiral galaxy  <i><a href=\"map/CVn.html\">in Canes Venatici</a></i></p><p>\n",
       "<b><a href=\"m/m095.html\">  M95  </a></b>  spiral galaxy  <i><a href=\"map/Leo.html\">in Leo</a></i></p><p>\n",
       "<b><a href=\"m/m096.html\">  M96  </a></b>  spiral galaxy  <i><a href=\"map/Leo.html\">in Leo</a></i></p><p>\n",
       "<b><a href=\"m/m097.html\">  M97  </a></b> <b>The Owl Nebula  </b>    planetary nebula  <i><a href=\"map/UMa.html\">in Ursa Major</a></i></p><p>\n",
       "<b><a href=\"m/m098.html\">  M98  </a></b>  spiral galaxy  <i><a href=\"map/Com.html\">in Coma Berenices</a></i></p><p>\n",
       "<b><a href=\"m/m099.html\">  M99  </a></b>  spiral galaxy  <i><a href=\"map/Com.html\">in Coma Berenices</a></i></p><p>\n",
       "<b><a href=\"m/m100.html\">  M100  </a></b>  spiral galaxy  <i><a href=\"map/Com.html\">in Coma Berenices</a></i></p><p>\n",
       "<b><a href=\"m/m101.html\">  M101  </a></b> <b>The Pinwheel Galaxy  </b>  spiral galaxy  <i><a href=\"map/UMa.html\">in Ursa Major</a></i></p><p>\n",
       "<b><a href=\"m/m102.html\">  M102  </a></b>  Lenticular galaxy (the <b>Spindle Galaxy</b>)  <i><a href=\"map/Dra.html\">in Draco</a></i></p><p>\n",
       "<b><a href=\"m/m103.html\">  M103  </a></b>  open cluster  <i><a href=\"map/Cas.html\">in Cassiopeia</a></i></p><p>\n",
       "<b><a href=\"m/m104.html\">  M104  </a></b> <b>The Sombrero Galaxy  </b>    spiral galaxy  <i><a href=\"map/Vir.html\">in Virgo</a></i></p><p>\n",
       "<b><a href=\"m/m105.html\">  M105  </a></b>  elliptical galaxy  <i><a href=\"map/Leo.html\">in Leo</a></i></p><p>\n",
       "<b><a href=\"m/m106.html\">  M106  </a></b>  spiral galaxy  <i><a href=\"map/CVn.html\">in Canes Venatici</a></i></p><p>\n",
       "<b><a href=\"m/m107.html\">  M107  </a></b>  globular cluster  <i><a href=\"map/Oph.html\">in Ophiuchus</a></i></p><p>\n",
       "<b><a href=\"m/m108.html\">  M108  </a></b>  spiral galaxy  <i><a href=\"map/UMa.html\">in Ursa Major</a></i></p><p>\n",
       "<b><a href=\"m/m109.html\">  M109  </a></b>  (NGC 3992) spiral galaxy  <i><a href=\"map/UMa.html\">in Ursa Major</a></i></p><p>\n",
       "<b><a href=\"m/m109b.html\">  M109B  </a></b>  (NGC 3953) spiral galaxy  <i><a href=\"map/UMa.html\">in Ursa Major</a></i></p><p>\n",
       "<b><a href=\"m/m110.html\">  M110  </a></b> <b>Satellite galaxy of M31  </b>  elliptical galaxy  <i><a href=\"map/And.html\">in Andromeda</a></i></p><p>\n",
       "</p><hr/>\n",
       "<a href=\"http://spider.seds.org/\">Hartmut Frommert</a>\n",
       "<br/>\n",
       "<a href=\"http://www.maa.mhn.de/P/smil.html\">Christine Kronberg</a>\n",
       "<br/>\n",
       "<a href=\"Contact/contact.html\">[contact]</a>\n",
       "<p>\n",
       "</p><center>\n",
       "<a href=\"http://www.seds.org/\"><img alt=\"[SEDS]\" src=\"Jco/seds1.jpg\"/></a>\n",
       "<a href=\"http://www.maa.mhn.de/\"><img alt=\"[MAA]\" src=\"Jco/maa.jpg\"/></a>\n",
       "<a href=\"Messier.html\"><img alt=\"[Home]\" src=\"Jco/messier.jpg\"/></a>\n",
       "<a href=\"indexes.html\"><img alt=\"[Indexes]\" src=\"Jco/sheet.ico.jpg\"/></a>\n",
       "</center>\n",
       "<p>\n",
       "\n",
       "Last Modification: April 26, 2013\n",
       "\n",
       "</p></body></html>"
      ]
     },
     "execution_count": 26,
     "metadata": {},
     "output_type": "execute_result"
    }
   ],
   "source": [
    "result"
   ]
  },
  {
   "cell_type": "code",
   "execution_count": 27,
   "metadata": {},
   "outputs": [],
   "source": [
    "p = result.select('p')"
   ]
  },
  {
   "cell_type": "code",
   "execution_count": 28,
   "metadata": {},
   "outputs": [],
   "source": [
    "text = []\r\n",
    "for line in p:\r\n",
    "    text.append(line.getText())"
   ]
  },
  {
   "cell_type": "code",
   "execution_count": 29,
   "metadata": {},
   "outputs": [
    {
     "data": {
      "text/plain": [
       "['\\n',\n",
       " '\\n M2    globular cluster  in Aquarius',\n",
       " '\\n M3    globular cluster  in Canes Venatici',\n",
       " '\\n M4    globular cluster  in Scorpius',\n",
       " '\\n M5    globular cluster  in Serpens Caput',\n",
       " '\\n M6   The Butterfly Cluster    open cluster  in Scorpius',\n",
       " \"\\n M7   Ptolemy's Cluster    open cluster  in Scorpius\",\n",
       " '\\n M8   The Lagoon Nebula      starforming nebula  in Sagittarius',\n",
       " '\\n M9    globular cluster  in Ophiuchus',\n",
       " '\\n  M10    globular cluster  in Ophiuchus',\n",
       " '\\n  M11   The Wild Duck Cluster    open cluster  in Scutum',\n",
       " '\\n  M12    globular cluster  in Ophiuchus',\n",
       " '\\n  M13   Great Hercules Globular Cluster    globular cluster  in Hercules',\n",
       " '\\n  M14    globular cluster  in Ophiuchus',\n",
       " '\\n  M15    globular cluster  in Pegasus',\n",
       " '\\n  M16   Eagle or Star Queen Nebula    starforming nebula  in Serpens Cauda',\n",
       " '\\n  M17   The Omega or Swan or Horseshoe or Lobster Nebula      starforming nebula  in Sagittarius',\n",
       " '\\n  M18    open cluster  in Sagittarius',\n",
       " '\\n  M19    globular cluster  in Ophiuchus',\n",
       " '\\n  M20   The Trifid Nebula      starforming nebula  in Sagittarius',\n",
       " '\\n  M21    open cluster  in Sagittarius',\n",
       " '\\n  M22    globular cluster  in Sagittarius',\n",
       " '\\n  M23    open cluster  in Sagittarius',\n",
       " '\\n  M24   Milky Way Patch  star cloud with open cluster NGC 6603 in Sagittarius',\n",
       " '\\n  M25    open cluster  in Sagittarius',\n",
       " '\\n  M26    open cluster  in Scutum',\n",
       " '\\n  M27   The Dumbbell Nebula      planetary nebula  in Vulpecula',\n",
       " '\\n  M28    globular cluster  in Sagittarius',\n",
       " '\\n  M29    open cluster  in Cygnus',\n",
       " '\\n  M30    globular cluster  in Capricornus',\n",
       " '\\n  M31   The Andromeda Galaxy      spiral galaxy  in Andromeda',\n",
       " '\\n  M32   Satellite galaxy of M31      elliptical galaxy  in Andromeda',\n",
       " '\\n  M33   The Triangulum Galaxy  (also Pinwheel)  spiral galaxy  in Triangulum',\n",
       " '\\n  M34    open cluster  in Perseus',\n",
       " '\\n  M35    open cluster  in Gemini',\n",
       " '\\n  M36    open cluster  in Auriga',\n",
       " '\\n  M37    open cluster  in Auriga',\n",
       " '\\n  M38    open cluster  in Auriga',\n",
       " '\\n  M39    open cluster  in Cygnus',\n",
       " '\\n  M40   Double Star WNC4   in Ursa Major',\n",
       " '\\n  M41    open cluster  in Canis Major',\n",
       " '\\n  M42   The Great Orion Nebula      starforming nebula  in Orion',\n",
       " \"\\n  M43   part of the Orion Nebula (de Mairan's Nebula)     starforming nebula  in Orion\",\n",
       " '\\n  M44   Praesepe, the Beehive Cluster      open cluster  in Cancer',\n",
       " '\\n  M45   Subaru, the Pleiades--the Seven Sisters      open cluster  in Taurus',\n",
       " '\\n  M46    open cluster  in Puppis',\n",
       " '\\n  M47    open cluster  in Puppis',\n",
       " '\\n  M48    open cluster  in Hydra',\n",
       " '\\n  M49    elliptical galaxy  in Virgo',\n",
       " '\\n  M50    open cluster  in Monoceros',\n",
       " '\\n  M51   The Whirlpool Galaxy, spiral galaxy  in Canes Venatici',\n",
       " '\\n  M51B    (NGC 5195) irregular galaxy, companion of M51  in Canes Venatici',\n",
       " '\\n  M52    open cluster  in Cassiopeia',\n",
       " '\\n  M53    globular cluster  in Coma Berenices',\n",
       " '\\n  M54    globular cluster  in Sagittarius',\n",
       " '\\n  M55    globular cluster  in Sagittarius',\n",
       " '\\n  M56    globular cluster  in Lyra',\n",
       " '\\n  M57   The Ring Nebula      planetary nebula  in Lyra',\n",
       " '\\n  M58    spiral galaxy  in Virgo',\n",
       " '\\n  M59    elliptical galaxy  in Virgo',\n",
       " '\\n  M60    elliptical galaxy  in Virgo',\n",
       " '\\n  M61    spiral galaxy  in Virgo',\n",
       " '\\n  M62    globular cluster  in Ophiuchus',\n",
       " '\\n  M63   Sunflower galaxy    spiral galaxy  in Canes Venatici',\n",
       " '\\n  M64   Blackeye galaxy    spiral galaxy  in Coma Berenices',\n",
       " '\\n  M65    spiral galaxy  in Leo',\n",
       " '\\n  M66    spiral galaxy  in Leo',\n",
       " '\\n  M67    open cluster  in Cancer',\n",
       " '\\n  M68    globular cluster  in Hydra',\n",
       " '\\n  M69    globular cluster  in Sagittarius',\n",
       " '\\n  M70    globular cluster  in Sagittarius',\n",
       " '\\n  M71    globular cluster  in Sagitta',\n",
       " '\\n  M72    globular cluster  in Aquarius',\n",
       " '\\n  M73    open cluster  in Aquarius',\n",
       " '\\n  M74    spiral galaxy  in Pisces',\n",
       " '\\n  M75    globular cluster  in Sagittarius',\n",
       " '\\n  M76   The Little Dumbell, Cork, or Butterfly    planetary nebula  in Perseus',\n",
       " '\\n  M77    spiral galaxy  in Cetus',\n",
       " '\\n  M78    starforming reflection nebula  in Orion',\n",
       " '\\n  M79    globular cluster  in Lepus',\n",
       " '\\n  M80    globular cluster  in Scorpius',\n",
       " \"\\n  M81   Bode's Galaxy (nebula)    spiral galaxy  in Ursa Major\",\n",
       " '\\n  M82   The Cigar Galaxy  irregular galaxy  in Ursa Major',\n",
       " '\\n  M83   The Southern Pinwheel Galaxy  spiral galaxy  in Hydra',\n",
       " '\\n  M84    lenticular galaxy  in Virgo',\n",
       " '\\n  M85    lenticular galaxy  in Coma Berenices',\n",
       " '\\n  M86    lenticular galaxy  in Virgo',\n",
       " '\\n  M87   Virgo A    elliptical galaxy  in Virgo',\n",
       " '\\n  M88    spiral galaxy  in Coma Berenices',\n",
       " '\\n  M89    elliptical galaxy  in Virgo',\n",
       " '\\n  M90    spiral galaxy  in Virgo',\n",
       " '\\n  M91    spiral galaxy  in Coma Berenices',\n",
       " '\\n  M92    globular cluster  in Hercules',\n",
       " '\\n  M93    open cluster  in Puppis',\n",
       " '\\n  M94    spiral galaxy  in Canes Venatici',\n",
       " '\\n  M95    spiral galaxy  in Leo',\n",
       " '\\n  M96    spiral galaxy  in Leo',\n",
       " '\\n  M97   The Owl Nebula      planetary nebula  in Ursa Major',\n",
       " '\\n  M98    spiral galaxy  in Coma Berenices',\n",
       " '\\n  M99    spiral galaxy  in Coma Berenices',\n",
       " '\\n  M100    spiral galaxy  in Coma Berenices',\n",
       " '\\n  M101   The Pinwheel Galaxy    spiral galaxy  in Ursa Major',\n",
       " '\\n  M102    Lenticular galaxy (the Spindle Galaxy)  in Draco',\n",
       " '\\n  M103    open cluster  in Cassiopeia',\n",
       " '\\n  M104   The Sombrero Galaxy      spiral galaxy  in Virgo',\n",
       " '\\n  M105    elliptical galaxy  in Leo',\n",
       " '\\n  M106    spiral galaxy  in Canes Venatici',\n",
       " '\\n  M107    globular cluster  in Ophiuchus',\n",
       " '\\n  M108    spiral galaxy  in Ursa Major',\n",
       " '\\n  M109    (NGC 3992) spiral galaxy  in Ursa Major',\n",
       " '\\n  M109B    (NGC 3953) spiral galaxy  in Ursa Major',\n",
       " '\\n  M110   Satellite galaxy of M31    elliptical galaxy  in Andromeda',\n",
       " '\\n',\n",
       " '\\n',\n",
       " '\\n\\nLast Modification: April 26, 2013\\n\\n']"
      ]
     },
     "execution_count": 29,
     "metadata": {},
     "output_type": "execute_result"
    }
   ],
   "source": [
    "text"
   ]
  },
  {
   "cell_type": "code",
   "execution_count": 30,
   "metadata": {},
   "outputs": [
    {
     "data": {
      "text/plain": [
       "'\\n\\nLast Modification: April 26, 2013\\n\\n'"
      ]
     },
     "execution_count": 30,
     "metadata": {},
     "output_type": "execute_result"
    }
   ],
   "source": [
    "text.pop(-1)"
   ]
  },
  {
   "cell_type": "code",
   "execution_count": 31,
   "metadata": {},
   "outputs": [
    {
     "data": {
      "text/plain": [
       "'\\n'"
      ]
     },
     "execution_count": 31,
     "metadata": {},
     "output_type": "execute_result"
    }
   ],
   "source": [
    "text.pop(-1)"
   ]
  },
  {
   "cell_type": "code",
   "execution_count": 32,
   "metadata": {},
   "outputs": [
    {
     "data": {
      "text/plain": [
       "'\\n'"
      ]
     },
     "execution_count": 32,
     "metadata": {},
     "output_type": "execute_result"
    }
   ],
   "source": [
    "text.pop(-1)"
   ]
  },
  {
   "cell_type": "code",
   "execution_count": 33,
   "metadata": {},
   "outputs": [
    {
     "data": {
      "text/plain": [
       "'\\n'"
      ]
     },
     "execution_count": 33,
     "metadata": {},
     "output_type": "execute_result"
    }
   ],
   "source": [
    "text.pop(0)"
   ]
  },
  {
   "cell_type": "code",
   "execution_count": 34,
   "metadata": {},
   "outputs": [
    {
     "data": {
      "text/plain": [
       "['\\n M2    globular cluster  in Aquarius',\n",
       " '\\n M3    globular cluster  in Canes Venatici',\n",
       " '\\n M4    globular cluster  in Scorpius',\n",
       " '\\n M5    globular cluster  in Serpens Caput',\n",
       " '\\n M6   The Butterfly Cluster    open cluster  in Scorpius',\n",
       " \"\\n M7   Ptolemy's Cluster    open cluster  in Scorpius\",\n",
       " '\\n M8   The Lagoon Nebula      starforming nebula  in Sagittarius',\n",
       " '\\n M9    globular cluster  in Ophiuchus',\n",
       " '\\n  M10    globular cluster  in Ophiuchus',\n",
       " '\\n  M11   The Wild Duck Cluster    open cluster  in Scutum',\n",
       " '\\n  M12    globular cluster  in Ophiuchus',\n",
       " '\\n  M13   Great Hercules Globular Cluster    globular cluster  in Hercules',\n",
       " '\\n  M14    globular cluster  in Ophiuchus',\n",
       " '\\n  M15    globular cluster  in Pegasus',\n",
       " '\\n  M16   Eagle or Star Queen Nebula    starforming nebula  in Serpens Cauda',\n",
       " '\\n  M17   The Omega or Swan or Horseshoe or Lobster Nebula      starforming nebula  in Sagittarius',\n",
       " '\\n  M18    open cluster  in Sagittarius',\n",
       " '\\n  M19    globular cluster  in Ophiuchus',\n",
       " '\\n  M20   The Trifid Nebula      starforming nebula  in Sagittarius',\n",
       " '\\n  M21    open cluster  in Sagittarius',\n",
       " '\\n  M22    globular cluster  in Sagittarius',\n",
       " '\\n  M23    open cluster  in Sagittarius',\n",
       " '\\n  M24   Milky Way Patch  star cloud with open cluster NGC 6603 in Sagittarius',\n",
       " '\\n  M25    open cluster  in Sagittarius',\n",
       " '\\n  M26    open cluster  in Scutum',\n",
       " '\\n  M27   The Dumbbell Nebula      planetary nebula  in Vulpecula',\n",
       " '\\n  M28    globular cluster  in Sagittarius',\n",
       " '\\n  M29    open cluster  in Cygnus',\n",
       " '\\n  M30    globular cluster  in Capricornus',\n",
       " '\\n  M31   The Andromeda Galaxy      spiral galaxy  in Andromeda',\n",
       " '\\n  M32   Satellite galaxy of M31      elliptical galaxy  in Andromeda',\n",
       " '\\n  M33   The Triangulum Galaxy  (also Pinwheel)  spiral galaxy  in Triangulum',\n",
       " '\\n  M34    open cluster  in Perseus',\n",
       " '\\n  M35    open cluster  in Gemini',\n",
       " '\\n  M36    open cluster  in Auriga',\n",
       " '\\n  M37    open cluster  in Auriga',\n",
       " '\\n  M38    open cluster  in Auriga',\n",
       " '\\n  M39    open cluster  in Cygnus',\n",
       " '\\n  M40   Double Star WNC4   in Ursa Major',\n",
       " '\\n  M41    open cluster  in Canis Major',\n",
       " '\\n  M42   The Great Orion Nebula      starforming nebula  in Orion',\n",
       " \"\\n  M43   part of the Orion Nebula (de Mairan's Nebula)     starforming nebula  in Orion\",\n",
       " '\\n  M44   Praesepe, the Beehive Cluster      open cluster  in Cancer',\n",
       " '\\n  M45   Subaru, the Pleiades--the Seven Sisters      open cluster  in Taurus',\n",
       " '\\n  M46    open cluster  in Puppis',\n",
       " '\\n  M47    open cluster  in Puppis',\n",
       " '\\n  M48    open cluster  in Hydra',\n",
       " '\\n  M49    elliptical galaxy  in Virgo',\n",
       " '\\n  M50    open cluster  in Monoceros',\n",
       " '\\n  M51   The Whirlpool Galaxy, spiral galaxy  in Canes Venatici',\n",
       " '\\n  M51B    (NGC 5195) irregular galaxy, companion of M51  in Canes Venatici',\n",
       " '\\n  M52    open cluster  in Cassiopeia',\n",
       " '\\n  M53    globular cluster  in Coma Berenices',\n",
       " '\\n  M54    globular cluster  in Sagittarius',\n",
       " '\\n  M55    globular cluster  in Sagittarius',\n",
       " '\\n  M56    globular cluster  in Lyra',\n",
       " '\\n  M57   The Ring Nebula      planetary nebula  in Lyra',\n",
       " '\\n  M58    spiral galaxy  in Virgo',\n",
       " '\\n  M59    elliptical galaxy  in Virgo',\n",
       " '\\n  M60    elliptical galaxy  in Virgo',\n",
       " '\\n  M61    spiral galaxy  in Virgo',\n",
       " '\\n  M62    globular cluster  in Ophiuchus',\n",
       " '\\n  M63   Sunflower galaxy    spiral galaxy  in Canes Venatici',\n",
       " '\\n  M64   Blackeye galaxy    spiral galaxy  in Coma Berenices',\n",
       " '\\n  M65    spiral galaxy  in Leo',\n",
       " '\\n  M66    spiral galaxy  in Leo',\n",
       " '\\n  M67    open cluster  in Cancer',\n",
       " '\\n  M68    globular cluster  in Hydra',\n",
       " '\\n  M69    globular cluster  in Sagittarius',\n",
       " '\\n  M70    globular cluster  in Sagittarius',\n",
       " '\\n  M71    globular cluster  in Sagitta',\n",
       " '\\n  M72    globular cluster  in Aquarius',\n",
       " '\\n  M73    open cluster  in Aquarius',\n",
       " '\\n  M74    spiral galaxy  in Pisces',\n",
       " '\\n  M75    globular cluster  in Sagittarius',\n",
       " '\\n  M76   The Little Dumbell, Cork, or Butterfly    planetary nebula  in Perseus',\n",
       " '\\n  M77    spiral galaxy  in Cetus',\n",
       " '\\n  M78    starforming reflection nebula  in Orion',\n",
       " '\\n  M79    globular cluster  in Lepus',\n",
       " '\\n  M80    globular cluster  in Scorpius',\n",
       " \"\\n  M81   Bode's Galaxy (nebula)    spiral galaxy  in Ursa Major\",\n",
       " '\\n  M82   The Cigar Galaxy  irregular galaxy  in Ursa Major',\n",
       " '\\n  M83   The Southern Pinwheel Galaxy  spiral galaxy  in Hydra',\n",
       " '\\n  M84    lenticular galaxy  in Virgo',\n",
       " '\\n  M85    lenticular galaxy  in Coma Berenices',\n",
       " '\\n  M86    lenticular galaxy  in Virgo',\n",
       " '\\n  M87   Virgo A    elliptical galaxy  in Virgo',\n",
       " '\\n  M88    spiral galaxy  in Coma Berenices',\n",
       " '\\n  M89    elliptical galaxy  in Virgo',\n",
       " '\\n  M90    spiral galaxy  in Virgo',\n",
       " '\\n  M91    spiral galaxy  in Coma Berenices',\n",
       " '\\n  M92    globular cluster  in Hercules',\n",
       " '\\n  M93    open cluster  in Puppis',\n",
       " '\\n  M94    spiral galaxy  in Canes Venatici',\n",
       " '\\n  M95    spiral galaxy  in Leo',\n",
       " '\\n  M96    spiral galaxy  in Leo',\n",
       " '\\n  M97   The Owl Nebula      planetary nebula  in Ursa Major',\n",
       " '\\n  M98    spiral galaxy  in Coma Berenices',\n",
       " '\\n  M99    spiral galaxy  in Coma Berenices',\n",
       " '\\n  M100    spiral galaxy  in Coma Berenices',\n",
       " '\\n  M101   The Pinwheel Galaxy    spiral galaxy  in Ursa Major',\n",
       " '\\n  M102    Lenticular galaxy (the Spindle Galaxy)  in Draco',\n",
       " '\\n  M103    open cluster  in Cassiopeia',\n",
       " '\\n  M104   The Sombrero Galaxy      spiral galaxy  in Virgo',\n",
       " '\\n  M105    elliptical galaxy  in Leo',\n",
       " '\\n  M106    spiral galaxy  in Canes Venatici',\n",
       " '\\n  M107    globular cluster  in Ophiuchus',\n",
       " '\\n  M108    spiral galaxy  in Ursa Major',\n",
       " '\\n  M109    (NGC 3992) spiral galaxy  in Ursa Major',\n",
       " '\\n  M109B    (NGC 3953) spiral galaxy  in Ursa Major',\n",
       " '\\n  M110   Satellite galaxy of M31    elliptical galaxy  in Andromeda']"
      ]
     },
     "execution_count": 34,
     "metadata": {},
     "output_type": "execute_result"
    }
   ],
   "source": [
    "text"
   ]
  },
  {
   "cell_type": "code",
   "execution_count": 35,
   "metadata": {},
   "outputs": [],
   "source": [
    "import re"
   ]
  },
  {
   "cell_type": "code",
   "execution_count": 36,
   "metadata": {},
   "outputs": [
    {
     "data": {
      "text/plain": [
       "<re.Match object; span=(26, 37), match='in Aquarius'>"
      ]
     },
     "execution_count": 36,
     "metadata": {},
     "output_type": "execute_result"
    }
   ],
   "source": [
    "re.search(r'in (\\w)+', text[0])"
   ]
  },
  {
   "cell_type": "code",
   "execution_count": 37,
   "metadata": {},
   "outputs": [
    {
     "data": {
      "text/plain": [
       "<re.Match object; span=(2, 4), match='M2'>"
      ]
     },
     "execution_count": 37,
     "metadata": {},
     "output_type": "execute_result"
    }
   ],
   "source": [
    "re.search(r'M(\\d)+', text[0])"
   ]
  },
  {
   "cell_type": "code",
   "execution_count": 38,
   "metadata": {},
   "outputs": [
    {
     "data": {
      "text/plain": [
       "<re.Match object; span=(2, 37), match='M2    globular cluster  in Aquarius'>"
      ]
     },
     "execution_count": 38,
     "metadata": {},
     "output_type": "execute_result"
    }
   ],
   "source": [
    "re.search(r'M(\\d+)(\\s+)(\\D+)in (\\w)+', text[0])"
   ]
  },
  {
   "cell_type": "code",
   "execution_count": 39,
   "metadata": {},
   "outputs": [],
   "source": [
    "pattern = re.compile(r'(M\\d+)\\s+(\\D+)in (\\w+)')"
   ]
  },
  {
   "cell_type": "code",
   "execution_count": 40,
   "metadata": {},
   "outputs": [],
   "source": [
    "list0 = re.findall(pattern, text[21])"
   ]
  },
  {
   "cell_type": "code",
   "execution_count": 41,
   "metadata": {},
   "outputs": [
    {
     "data": {
      "text/plain": [
       "[('M23', 'open cluster  ', 'Sagittarius')]"
      ]
     },
     "execution_count": 41,
     "metadata": {},
     "output_type": "execute_result"
    }
   ],
   "source": [
    "list0"
   ]
  },
  {
   "cell_type": "code",
   "execution_count": 42,
   "metadata": {},
   "outputs": [
    {
     "data": {
      "text/plain": [
       "[('M23', 'open cluster  ', 'Sagittarius')]"
      ]
     },
     "execution_count": 42,
     "metadata": {},
     "output_type": "execute_result"
    }
   ],
   "source": [
    "import pdb\r\n",
    "list0"
   ]
  },
  {
   "cell_type": "code",
   "execution_count": 44,
   "metadata": {},
   "outputs": [],
   "source": [
    "# with open('messiers.csv', 'w+') as f:\r\n",
    "#     csvWriter = csv.writer(f)\r\n",
    "#     for i, line in enumerate(text):\r\n",
    "#         if i == 22 or i == 40:\r\n",
    "#             continue\r\n",
    "#         currList = re.findall(pattern, line)\r\n",
    "#         # pdb.set_trace()\r\n",
    "#         mid = currList[0][1].strip()\r\n",
    "#         print(currList[0][0],mid)\r\n",
    "#         finalEnteredList = [currList[0][0], mid, currList[0][2]]\r\n",
    "#         csvWriter.writerow(finalEnteredList)\r\n",
    "        "
   ]
  },
  {
   "cell_type": "markdown",
   "metadata": {},
   "source": [
    "# PDFs"
   ]
  },
  {
   "cell_type": "code",
   "execution_count": null,
   "metadata": {},
   "outputs": [
    {
     "name": "stdout",
     "output_type": "stream",
     "text": [
      "Collecting PyPDF2\n",
      "  Downloading PyPDF2-1.26.0.tar.gz (77 kB)\n",
      "Building wheels for collected packages: PyPDF2\n",
      "  Building wheel for PyPDF2 (setup.py): started\n",
      "  Building wheel for PyPDF2 (setup.py): finished with status 'done'\n",
      "  Created wheel for PyPDF2: filename=PyPDF2-1.26.0-py3-none-any.whl size=61087 sha256=e14f874202357527ee7d6936db327a2402f09f813f36c5c44be5eb091c2329e8\n",
      "  Stored in directory: c:\\users\\bansh\\appdata\\local\\pip\\cache\\wheels\\b1\\1a\\8f\\a4c34be976825a2f7948d0fa40907598d69834f8ab5889de11\n",
      "Successfully built PyPDF2\n",
      "Installing collected packages: PyPDF2\n",
      "Successfully installed PyPDF2-1.26.0\n"
     ]
    }
   ],
   "source": [
    "!pip install PyPDF2"
   ]
  },
  {
   "cell_type": "code",
   "execution_count": 45,
   "metadata": {},
   "outputs": [],
   "source": [
    "import PyPDF2"
   ]
  },
  {
   "cell_type": "code",
   "execution_count": 46,
   "metadata": {},
   "outputs": [],
   "source": [
    "f = open('Working_Business_Proposal.pdf', 'rb')"
   ]
  },
  {
   "cell_type": "code",
   "execution_count": 47,
   "metadata": {},
   "outputs": [],
   "source": [
    "pdfReader = PyPDF2.PdfFileReader(f)"
   ]
  },
  {
   "cell_type": "code",
   "execution_count": 48,
   "metadata": {},
   "outputs": [
    {
     "data": {
      "text/plain": [
       "5"
      ]
     },
     "execution_count": 48,
     "metadata": {},
     "output_type": "execute_result"
    }
   ],
   "source": [
    "pdfReader.numPages"
   ]
  },
  {
   "cell_type": "code",
   "execution_count": 49,
   "metadata": {},
   "outputs": [],
   "source": [
    "page_one = pdfReader.getPage(0)"
   ]
  },
  {
   "cell_type": "code",
   "execution_count": 50,
   "metadata": {},
   "outputs": [],
   "source": [
    "page_oneText = page_one.extractText()"
   ]
  },
  {
   "cell_type": "code",
   "execution_count": 51,
   "metadata": {},
   "outputs": [
    {
     "name": "stdout",
     "output_type": "stream",
     "text": [
      "Business Proposal\n",
      " The Revolution is Coming\n",
      " Leverage agile frameworks to provide a robust synopsis for high level \n",
      "overviews. Iterative approaches to corporate strategy foster collaborative \n",
      "thinking to further the overall value proposition. Organically grow the \n",
      "holistic world view of disruptive innovation via workplace diversity and \n",
      "empowerment. \n",
      "Bring to the table win-win survival strategies to ensure proactive \n",
      "domination. At the end of the day, going forward, a new normal that has \n",
      "evolved from generation X is on the runway heading towards a streamlined \n",
      "cloud solution. User generated content in real-time will have multiple \n",
      "touchpoints for offshoring. \n",
      "Capitalize on low hanging fruit to identify a ballpark value added activity to \n",
      "beta test. Override the digital divide with additional clickthroughs from \n",
      "DevOps. Nanotechnology immersion along the information highway will \n",
      "close the loop on focusing solely on the bottom line. Podcasting operational change management inside of workßows to \n",
      "establish a framework. Taking seamless key performance indicators ofßine \n",
      "to maximise the long tail. Keeping your eye on the ball while performing a \n",
      "deep dive on the start-up mentality to derive convergence on cross-\n",
      "platform integration. \n",
      "Collaboratively administrate empowered markets via plug-and-play \n",
      "networks. Dynamically procrastinate B2C users after installed base \n",
      "beneÞts. Dramatically visualize customer directed convergence without \n",
      "revolutionary ROI. \n",
      "EfÞciently unleash cross-media information without cross-media value. \n",
      "Quickly maximize timely deliverables for real-time schemas. Dramatically \n",
      "maintain clicks-and-mortar solutions without functional solutions. \n",
      "BUSINESS PROPOSAL\n",
      "!1\n"
     ]
    }
   ],
   "source": [
    "print(page_oneText)"
   ]
  },
  {
   "cell_type": "code",
   "execution_count": 52,
   "metadata": {},
   "outputs": [],
   "source": [
    "f.close()"
   ]
  },
  {
   "cell_type": "markdown",
   "metadata": {},
   "source": [
    "A new page is created for writing on a pdf. PDFs are designed not to be easily editable."
   ]
  },
  {
   "cell_type": "code",
   "execution_count": 54,
   "metadata": {},
   "outputs": [],
   "source": [
    "f = open('Working_Business_Proposal.pdf', 'rb')\r\n",
    "pdfReader = PyPDF2.PdfFileReader(f)"
   ]
  },
  {
   "cell_type": "code",
   "execution_count": 55,
   "metadata": {},
   "outputs": [],
   "source": [
    "firstPage = pdfReader.getPage(0)"
   ]
  },
  {
   "cell_type": "code",
   "execution_count": 61,
   "metadata": {},
   "outputs": [],
   "source": [
    "pdfWriter = PyPDF2.PdfFileWriter()"
   ]
  },
  {
   "cell_type": "code",
   "execution_count": 62,
   "metadata": {},
   "outputs": [
    {
     "data": {
      "text/plain": [
       "PyPDF2.pdf.PageObject"
      ]
     },
     "execution_count": 62,
     "metadata": {},
     "output_type": "execute_result"
    }
   ],
   "source": [
    "type(firstPage)"
   ]
  },
  {
   "cell_type": "markdown",
   "metadata": {},
   "source": [
    "A raw python string can't be added to a pdf. It should be a PageObject"
   ]
  },
  {
   "cell_type": "code",
   "execution_count": 63,
   "metadata": {},
   "outputs": [],
   "source": [
    "pdfWriter.addPage(firstPage)"
   ]
  },
  {
   "cell_type": "code",
   "execution_count": 65,
   "metadata": {},
   "outputs": [],
   "source": [
    "pdf_output = open('SomeNewDoc.pdf', 'wb')"
   ]
  },
  {
   "cell_type": "code",
   "execution_count": 66,
   "metadata": {},
   "outputs": [],
   "source": [
    "pdfWriter.write(pdf_output)"
   ]
  },
  {
   "cell_type": "code",
   "execution_count": 67,
   "metadata": {},
   "outputs": [],
   "source": [
    "f.close()"
   ]
  },
  {
   "cell_type": "code",
   "execution_count": 68,
   "metadata": {},
   "outputs": [],
   "source": [
    "pdf_output.close()"
   ]
  },
  {
   "cell_type": "markdown",
   "metadata": {},
   "source": [
    "All text in a pdf"
   ]
  },
  {
   "cell_type": "code",
   "execution_count": 69,
   "metadata": {},
   "outputs": [],
   "source": [
    "f = open('Working_Business_Proposal.pdf', 'rb')"
   ]
  },
  {
   "cell_type": "code",
   "execution_count": 70,
   "metadata": {},
   "outputs": [],
   "source": [
    "pdf_text = []\r\n",
    "pdf_reader = PyPDF2.PdfFileReader(f)\r\n",
    "for num in range(pdf_reader.numPages):\r\n",
    "    page = pdf_reader.getPage(num)\r\n",
    "    pdf_text.append(page.extractText())"
   ]
  },
  {
   "cell_type": "code",
   "execution_count": 74,
   "metadata": {},
   "outputs": [
    {
     "name": "stdout",
     "output_type": "stream",
     "text": [
      "Completely synergize resource taxing relationships via premier niche \n",
      "markets. Professionally cultivate one-to-one customer service with robust \n",
      "ideas. Dynamically innovate resource-leveling customer service for state of \n",
      "the art customer service. \n",
      "Objectively innovate empowered manufactured products whereas parallel \n",
      "platforms. Holisticly predominate extensible testing procedures for reliable \n",
      "supply chains. Dramatically engage top-line web services vis-a-vis \n",
      "cutting-edge deliverables. Proactively envisioned multimedia based expertise and cross-media \n",
      "growth strategies. Seamlessly visualize quality intellectual capital without \n",
      "superior collaboration and idea-sharing. Holistically pontiÞcate installed \n",
      "base portals after maintainable products. \n",
      "Phosßuorescently engage worldwide methodologies with web-enabled \n",
      "technology. Interactively coordinate proactive e-commerce via process-\n",
      "centric \"outside the box\" thinking. Completely pursue scalable customer \n",
      "service through sustainable potentialities. \n",
      "Collaboratively administrate turnkey channels whereas virtual e-tailers. \n",
      "Objectively seize scalable metrics whereas proactive e-services. \n",
      "Seamlessly empower fully researched growth strategies and interoperable \n",
      "internal or \"organic\" sources. \n",
      "Credibly innovate granular internal or \"organic\" sources whereas high \n",
      "standards in web-readiness. Energistically scale future-proof core \n",
      "competencies vis-a-vis impactful experiences. Dramatically synthesize \n",
      "integrated schemas with optimal networks. Interactively procrastinate high-payoff content without backward-\n",
      "compatible data. Quickly cultivate optimal processes and tactical \n",
      "architectures. Completely iterate covalent strategic theme areas via \n",
      "accurate e-markets. Globally incubate standards compliant channels before scalable beneÞts. \n",
      "Quickly disseminate superior deliverables whereas web-enabled \n",
      "BUSINESS PROPOSAL\n",
      "!2\n"
     ]
    }
   ],
   "source": [
    "print(pdf_text[1])"
   ]
  },
  {
   "cell_type": "code",
   "execution_count": null,
   "metadata": {},
   "outputs": [],
   "source": []
  }
 ],
 "metadata": {
  "interpreter": {
   "hash": "07efdcd4b820c98a756949507a4d29d7862823915ec7477944641bea022f4f62"
  },
  "kernelspec": {
   "display_name": "Python 3.8.3 64-bit ('base': conda)",
   "name": "python3"
  },
  "language_info": {
   "name": "python",
   "version": ""
  },
  "orig_nbformat": 4
 },
 "nbformat": 4,
 "nbformat_minor": 2
}